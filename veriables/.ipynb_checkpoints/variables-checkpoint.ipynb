{
 "cells": [
  {
   "cell_type": "code",
   "execution_count": 1,
   "id": "37e2e5db-0845-41c1-9ed8-d9c17819cf19",
   "metadata": {},
   "outputs": [
    {
     "name": "stdout",
     "output_type": "stream",
     "text": [
      "22\n"
     ]
    }
   ],
   "source": [
    "x = 22\n",
    "print(x)"
   ]
  },
  {
   "cell_type": "code",
   "execution_count": 2,
   "id": "a4e188e9-f906-4677-97e8-fd5a50158a74",
   "metadata": {},
   "outputs": [
    {
     "data": {
      "text/plain": [
       "int"
      ]
     },
     "execution_count": 2,
     "metadata": {},
     "output_type": "execute_result"
    }
   ],
   "source": [
    "type(x)"
   ]
  },
  {
   "cell_type": "code",
   "execution_count": 3,
   "id": "1365f4c2-9b1a-4721-9514-83e94b64953b",
   "metadata": {},
   "outputs": [
    {
     "name": "stdout",
     "output_type": "stream",
     "text": [
      "Mint Choclolate Chip\n"
     ]
    }
   ],
   "source": [
    "y = 'Mint Choclolate Chip'\n",
    "print(y)"
   ]
  },
  {
   "cell_type": "code",
   "execution_count": 5,
   "id": "c0396321-eb89-49fe-a986-0c3d684e760f",
   "metadata": {},
   "outputs": [
    {
     "data": {
      "text/plain": [
       "str"
      ]
     },
     "execution_count": 5,
     "metadata": {},
     "output_type": "execute_result"
    }
   ],
   "source": [
    "type(y)"
   ]
  },
  {
   "cell_type": "markdown",
   "id": "d7fd6553-c79a-46da-a7a2-2cc64699d05b",
   "metadata": {},
   "source": [
    "# Re-Assinging a variable "
   ]
  },
  {
   "cell_type": "code",
   "execution_count": 8,
   "id": "47412fa9-9cd7-474c-b88f-b4ad44cfa168",
   "metadata": {},
   "outputs": [
    {
     "name": "stdout",
     "output_type": "stream",
     "text": [
      "Chocolate\n"
     ]
    }
   ],
   "source": [
    "y = 'Chocolate'\n",
    "\n",
    "Y = 'Mint Chocolate Mint'\n",
    "\n",
    "print(y)"
   ]
  },
  {
   "cell_type": "markdown",
   "id": "44bf40fa-4630-4267-9e71-158c3ad651f3",
   "metadata": {},
   "source": [
    "## Assinging Multiple Values in a single statment "
   ]
  },
  {
   "cell_type": "code",
   "execution_count": 11,
   "id": "77a8743d-0d19-4129-836d-4fd80f71760c",
   "metadata": {},
   "outputs": [
    {
     "name": "stdout",
     "output_type": "stream",
     "text": [
      "Chocolate vanilla rocky road\n"
     ]
    }
   ],
   "source": [
    "x,y,z = 'Chocolate', 'vanilla', 'rocky road'\n",
    "print(x,y,z)"
   ]
  },
  {
   "cell_type": "code",
   "execution_count": 12,
   "id": "6f6ec8b3-6427-4b8d-a161-91643423e440",
   "metadata": {},
   "outputs": [
    {
     "name": "stdout",
     "output_type": "stream",
     "text": [
      "Chocolate\n",
      "Vanilla\n",
      "Rocky Road\n"
     ]
    }
   ],
   "source": [
    "x,y,z = 'Chocolate', 'Vanilla', 'Rocky Road'\n",
    "print(x)\n",
    "print(y)\n",
    "print(z)"
   ]
  },
  {
   "cell_type": "code",
   "execution_count": 14,
   "id": "2c1b8895-dc9b-4975-9aaa-e92d2b82d0d9",
   "metadata": {},
   "outputs": [
    {
     "name": "stdout",
     "output_type": "stream",
     "text": [
      "Root Beer Float\n",
      "Root Beer Float\n",
      "Root Beer Float\n"
     ]
    }
   ],
   "source": [
    "x = y = z = 'Root Beer Float'\n",
    "print(x)\n",
    "print(y)\n",
    "print(z)"
   ]
  },
  {
   "cell_type": "markdown",
   "id": "71278dde-81f0-4ebf-8f31-c9bc15fc7812",
   "metadata": {},
   "source": [
    "## Create List varable"
   ]
  },
  {
   "cell_type": "code",
   "execution_count": 15,
   "id": "e6211f53-70bc-4409-87d3-b8351f1ec0a3",
   "metadata": {},
   "outputs": [
    {
     "name": "stdout",
     "output_type": "stream",
     "text": [
      "Chocolate\n",
      "Vanilla\n",
      "Rocky Road\n"
     ]
    }
   ],
   "source": [
    "ice_cream = ['Chocolate', 'Vanilla', 'Rocky Road']\n",
    "x,y,z = ice_cream\n",
    "\n",
    "print(x)\n",
    "print(y)\n",
    "print(z)\n"
   ]
  },
  {
   "cell_type": "markdown",
   "id": "5200d482-3dba-420f-aacc-68e245f6f328",
   "metadata": {},
   "source": [
    "## Best Practices to create variables names \n",
    "### Snake Case\n",
    "ice_cream\n",
    "### Camel Case\n",
    "iceCream"
   ]
  },
  {
   "cell_type": "code",
   "execution_count": null,
   "id": "b6cec33a-cd83-47eb-a087-ed4d5aa3e982",
   "metadata": {},
   "outputs": [],
   "source": []
  },
  {
   "cell_type": "code",
   "execution_count": null,
   "id": "49666a67-8e3d-4433-bcec-b13163d6adb0",
   "metadata": {},
   "outputs": [],
   "source": []
  },
  {
   "cell_type": "code",
   "execution_count": null,
   "id": "73debe20-3a47-4f1a-bb10-67c3896bfbf2",
   "metadata": {},
   "outputs": [],
   "source": []
  }
 ],
 "metadata": {
  "kernelspec": {
   "display_name": "Python 3 (ipykernel)",
   "language": "python",
   "name": "python3"
  },
  "language_info": {
   "codemirror_mode": {
    "name": "ipython",
    "version": 3
   },
   "file_extension": ".py",
   "mimetype": "text/x-python",
   "name": "python",
   "nbconvert_exporter": "python",
   "pygments_lexer": "ipython3",
   "version": "3.11.6"
  }
 },
 "nbformat": 4,
 "nbformat_minor": 5
}
