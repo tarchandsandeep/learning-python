{
 "cells": [
  {
   "cell_type": "markdown",
   "id": "1fccf9f1-02ee-4dab-8f93-1d691cf4a71d",
   "metadata": {},
   "source": [
    "# Jupyterlab keyboard shortcuts "
   ]
  },
  {
   "cell_type": "markdown",
   "id": "f73ff802-7dd1-4027-8ef7-40a566ff86ea",
   "metadata": {},
   "source": [
    "1. M: is for switching to Markdown\n",
    "2. A: is create cells above\n",
    "3. B: is create cells below\n",
    "4. D+D: is to delete a cell\n",
    "5. Y: is switch to code\n",
    "6. ctrl + enter: is run cell and stay on cell\n",
    "7. shift + enter: is run cell and go to next\n",
    "8. edit --> find & replace (useful command in jupiter-lab web)"
   ]
  },
  {
   "cell_type": "markdown",
   "id": "ecded314-840d-4b4a-8ecb-fd2cdd62831e",
   "metadata": {},
   "source": [
    "# Markdown shortcuts"
   ]
  },
  {
   "cell_type": "markdown",
   "id": "e49d7528-78b4-4dfd-af0b-2693f38d255f",
   "metadata": {},
   "source": [
    "1. \"#\" - Main Heading 1\n",
    "2. \"##\" - Sub-Heading\n",
    "3. \"1\" - for Numbering "
   ]
  },
  {
   "cell_type": "code",
   "execution_count": null,
   "id": "11ae7568-ddca-45bc-9558-a9ecfd88b901",
   "metadata": {},
   "outputs": [],
   "source": []
  }
 ],
 "metadata": {
  "kernelspec": {
   "display_name": "Python 3 (ipykernel)",
   "language": "python",
   "name": "python3"
  },
  "language_info": {
   "codemirror_mode": {
    "name": "ipython",
    "version": 3
   },
   "file_extension": ".py",
   "mimetype": "text/x-python",
   "name": "python",
   "nbconvert_exporter": "python",
   "pygments_lexer": "ipython3",
   "version": "3.11.6"
  }
 },
 "nbformat": 4,
 "nbformat_minor": 5
}
