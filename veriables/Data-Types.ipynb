{
 "cells": [
  {
   "cell_type": "markdown",
   "id": "75664788-36ce-4404-be3f-fb8dfde777a1",
   "metadata": {},
   "source": [
    "# Data Types"
   ]
  },
  {
   "cell_type": "markdown",
   "id": "80d0e9a8-4602-4c45-ae70-e553f92977b7",
   "metadata": {},
   "source": [
    "## Numeric int"
   ]
  },
  {
   "cell_type": "code",
   "execution_count": 2,
   "id": "8275ca53-2c8c-444f-a642-a8f3387c6942",
   "metadata": {},
   "outputs": [
    {
     "data": {
      "text/plain": [
       "int"
      ]
     },
     "execution_count": 2,
     "metadata": {},
     "output_type": "execute_result"
    }
   ],
   "source": [
    "type(-12 + 100)"
   ]
  },
  {
   "cell_type": "code",
   "execution_count": 3,
   "id": "7d7366c4-b23d-42f0-89b1-73936b4c5035",
   "metadata": {},
   "outputs": [
    {
     "data": {
      "text/plain": [
       "float"
      ]
     },
     "execution_count": 3,
     "metadata": {},
     "output_type": "execute_result"
    }
   ],
   "source": [
    "type(12 + 10.25)"
   ]
  },
  {
   "cell_type": "code",
   "execution_count": 4,
   "id": "ee8af2f0-6ba3-45b6-8f43-5e4d37d06278",
   "metadata": {},
   "outputs": [
    {
     "data": {
      "text/plain": [
       "complex"
      ]
     },
     "execution_count": 4,
     "metadata": {},
     "output_type": "execute_result"
    }
   ],
   "source": [
    "type(12 +3j)"
   ]
  },
  {
   "cell_type": "markdown",
   "id": "8fb00188-9d19-49b2-83c6-62804b296890",
   "metadata": {},
   "source": [
    "## Boolean"
   ]
  },
  {
   "cell_type": "code",
   "execution_count": 5,
   "id": "e91ec127-ddd6-4b0f-ba05-c2855840c38d",
   "metadata": {},
   "outputs": [
    {
     "data": {
      "text/plain": [
       "bool"
      ]
     },
     "execution_count": 5,
     "metadata": {},
     "output_type": "execute_result"
    }
   ],
   "source": [
    "#Boolean\n",
    "type(False)"
   ]
  },
  {
   "cell_type": "code",
   "execution_count": 7,
   "id": "403237ce-1d4a-4d0d-a5e1-657c0e34d0d3",
   "metadata": {},
   "outputs": [
    {
     "data": {
      "text/plain": [
       "True"
      ]
     },
     "execution_count": 7,
     "metadata": {},
     "output_type": "execute_result"
    }
   ],
   "source": [
    "1 == 1"
   ]
  },
  {
   "cell_type": "code",
   "execution_count": 8,
   "id": "bf04030e-74ce-4828-ae02-dfb94f9c4333",
   "metadata": {},
   "outputs": [
    {
     "data": {
      "text/plain": [
       "False"
      ]
     },
     "execution_count": 8,
     "metadata": {},
     "output_type": "execute_result"
    }
   ],
   "source": [
    "1 > 5"
   ]
  },
  {
   "cell_type": "markdown",
   "id": "5b62254b-4b81-4023-9601-4137e466434d",
   "metadata": {},
   "source": [
    "## Strings "
   ]
  },
  {
   "cell_type": "code",
   "execution_count": 9,
   "id": "44cced14-5807-4cdd-907e-9da6519e3903",
   "metadata": {},
   "outputs": [
    {
     "data": {
      "text/plain": [
       "'Single Quote'"
      ]
     },
     "execution_count": 9,
     "metadata": {},
     "output_type": "execute_result"
    }
   ],
   "source": [
    "# Strings \n",
    "'Single Quote'"
   ]
  },
  {
   "cell_type": "code",
   "execution_count": 10,
   "id": "d53148a3-8d2a-4ee4-adcc-67523aaa4088",
   "metadata": {},
   "outputs": [
    {
     "data": {
      "text/plain": [
       "'Double Quote'"
      ]
     },
     "execution_count": 10,
     "metadata": {},
     "output_type": "execute_result"
    }
   ],
   "source": [
    "\"Double Quote\""
   ]
  },
  {
   "cell_type": "code",
   "execution_count": 12,
   "id": "973fb551-9c2f-4de0-83e6-b6cae783955f",
   "metadata": {},
   "outputs": [],
   "source": [
    "multiline = \"\"\"\n",
    "The ice cream vanquished my longing for sweets,\n",
    "upon this siet I look away,\n",
    "it no longer exists on this day.\n",
    "\"\"\""
   ]
  },
  {
   "cell_type": "code",
   "execution_count": 13,
   "id": "5adf4ff0-b1ab-49b9-b1b5-74f266907212",
   "metadata": {},
   "outputs": [
    {
     "name": "stdout",
     "output_type": "stream",
     "text": [
      "\n",
      "The ice cream vanquished my longing for sweets,\n",
      "upon this siet I look away,\n",
      "it no longer exists on this day.\n",
      "\n"
     ]
    }
   ],
   "source": [
    "print(multiline)"
   ]
  },
  {
   "cell_type": "code",
   "execution_count": 15,
   "id": "474b9a6c-8803-4832-83af-2c01fe8e9050",
   "metadata": {},
   "outputs": [
    {
     "data": {
      "text/plain": [
       "'\\nI\\'ve always wanted to eat a gallon of \"ice cream.\"\\n'"
      ]
     },
     "execution_count": 15,
     "metadata": {},
     "output_type": "execute_result"
    }
   ],
   "source": [
    "\"\"\"\n",
    "I've always wanted to eat a gallon of \"ice cream.\"\n",
    "\"\"\""
   ]
  },
  {
   "cell_type": "code",
   "execution_count": 18,
   "id": "254f90dd-b326-4061-8a75-c54fc7b50d6e",
   "metadata": {},
   "outputs": [
    {
     "data": {
      "text/plain": [
       "str"
      ]
     },
     "execution_count": 18,
     "metadata": {},
     "output_type": "execute_result"
    }
   ],
   "source": [
    "type(multiline)"
   ]
  },
  {
   "cell_type": "code",
   "execution_count": 21,
   "id": "acfb0365-1bb2-4168-9c41-3f99ffea0831",
   "metadata": {},
   "outputs": [],
   "source": [
    "a = 'Hello World!'"
   ]
  },
  {
   "cell_type": "code",
   "execution_count": 20,
   "id": "2f34ac27-c53a-4c89-8ab1-003cb4bce65e",
   "metadata": {},
   "outputs": [
    {
     "name": "stdout",
     "output_type": "stream",
     "text": [
      "Hello\n"
     ]
    }
   ],
   "source": [
    "print(a[:5])"
   ]
  },
  {
   "cell_type": "code",
   "execution_count": 22,
   "id": "2f55de1c-843e-44b0-860b-85395507ac4d",
   "metadata": {},
   "outputs": [
    {
     "data": {
      "text/plain": [
       "'Hello World!Hello World!Hello World!'"
      ]
     },
     "execution_count": 22,
     "metadata": {},
     "output_type": "execute_result"
    }
   ],
   "source": [
    "a*3"
   ]
  },
  {
   "cell_type": "code",
   "execution_count": 23,
   "id": "c0b3da94-a098-496e-aa86-234dac79d9cc",
   "metadata": {},
   "outputs": [
    {
     "data": {
      "text/plain": [
       "'Hello World!Hello World!'"
      ]
     },
     "execution_count": 23,
     "metadata": {},
     "output_type": "execute_result"
    }
   ],
   "source": [
    "a + a"
   ]
  },
  {
   "cell_type": "markdown",
   "id": "59e1e2f7-23ef-43a9-82a3-9b9aca77c76e",
   "metadata": {},
   "source": [
    "## Lists"
   ]
  },
  {
   "cell_type": "code",
   "execution_count": 24,
   "id": "83a8cd6e-4910-4060-a4ab-1b514c364f0c",
   "metadata": {},
   "outputs": [
    {
     "data": {
      "text/plain": [
       "[1, 2, 3]"
      ]
     },
     "execution_count": 24,
     "metadata": {},
     "output_type": "execute_result"
    }
   ],
   "source": [
    "# List\n",
    "[1,2,3]"
   ]
  },
  {
   "cell_type": "markdown",
   "id": "6bcaa9fc",
   "metadata": {},
   "source": [
    "### List has items (can have numbers or strings or dictionary)\n",
    "\n",
    "= is asinging \n",
    "\n",
    "== "
   ]
  },
  {
   "cell_type": "code",
   "execution_count": null,
   "id": "f04e44b6",
   "metadata": {},
   "outputs": [],
   "source": [
    "worker[\"names\"]\n",
    "\n",
    "worker['name': 'Sandeep']\n",
    "\n",
    "worker['name'] = \"sandeep\""
   ]
  },
  {
   "cell_type": "code",
   "execution_count": 25,
   "id": "313a03a5-4981-4808-8837-8f76ee76a9e4",
   "metadata": {},
   "outputs": [
    {
     "data": {
      "text/plain": [
       "['Cookie Dough', 'Strawberry', 'Chocolate']"
      ]
     },
     "execution_count": 25,
     "metadata": {},
     "output_type": "execute_result"
    }
   ],
   "source": [
    "['Cookie Dough','Strawberry','Chocolate']"
   ]
  },
  {
   "cell_type": "code",
   "execution_count": 26,
   "id": "a99e51dd-5944-429a-b65a-d7a5df8d8e09",
   "metadata": {},
   "outputs": [
    {
     "data": {
      "text/plain": [
       "['Vanilla', 3, ['Scoops', 'Spoon'], True]"
      ]
     },
     "execution_count": 26,
     "metadata": {},
     "output_type": "execute_result"
    }
   ],
   "source": [
    "['Vanilla', 3, ['Scoops','Spoon'], True]"
   ]
  },
  {
   "cell_type": "code",
   "execution_count": 6,
   "id": "94eeb8ee-7c1b-4742-a3af-a77ed6da15af",
   "metadata": {},
   "outputs": [
    {
     "data": {
      "text/plain": [
       "'MMC'"
      ]
     },
     "execution_count": 6,
     "metadata": {},
     "output_type": "execute_result"
    }
   ],
   "source": [
    "ice_cream = ['Cookie Dough','Strawberry','Chocolate']\n",
    "ice_cream.append('MMC')\n",
    "ice_cream[3]\n"
   ]
  },
  {
   "cell_type": "code",
   "execution_count": 29,
   "id": "b008c75c-48ec-4ae9-ba6c-f6638e203b30",
   "metadata": {},
   "outputs": [
    {
     "data": {
      "text/plain": [
       "['Butter Pecon', 'Strawberry', 'Chocolate', 'Salted Caramel']"
      ]
     },
     "execution_count": 29,
     "metadata": {},
     "output_type": "execute_result"
    }
   ],
   "source": [
    "ice_cream[0] = 'Butter Pecon'\n",
    "ice_cream"
   ]
  },
  {
   "cell_type": "code",
   "execution_count": 30,
   "id": "bc1f6fc3-19df-451e-826a-d3ec28460e50",
   "metadata": {},
   "outputs": [],
   "source": [
    "nest_list = ['Vanilla', 3, ['Scoops','Spoon'], True]"
   ]
  },
  {
   "cell_type": "code",
   "execution_count": 32,
   "id": "35f1529c-96be-4bf9-955b-950ccb5e84f5",
   "metadata": {},
   "outputs": [
    {
     "data": {
      "text/plain": [
       "'Spoon'"
      ]
     },
     "execution_count": 32,
     "metadata": {},
     "output_type": "execute_result"
    }
   ],
   "source": [
    "nest_list[2][1]"
   ]
  },
  {
   "cell_type": "markdown",
   "id": "f5061860-2cf8-4993-8cea-e429283c96c5",
   "metadata": {},
   "source": [
    "## Tuples\n",
    "\n",
    "1. Tubles are immutable. "
   ]
  },
  {
   "cell_type": "code",
   "execution_count": 34,
   "id": "43188b08-7b04-400f-bedd-a7287f392fc6",
   "metadata": {},
   "outputs": [],
   "source": [
    "#tuple \n",
    "\n",
    "tuple_scoops = (1,2,3,2,1)\n"
   ]
  },
  {
   "cell_type": "code",
   "execution_count": 35,
   "id": "119f3154-c5ab-4ec5-a6df-1f22b84cdba2",
   "metadata": {},
   "outputs": [
    {
     "data": {
      "text/plain": [
       "tuple"
      ]
     },
     "execution_count": 35,
     "metadata": {},
     "output_type": "execute_result"
    }
   ],
   "source": [
    "type(tuple_scoops)"
   ]
  },
  {
   "cell_type": "code",
   "execution_count": 36,
   "id": "fac18e04-2e24-4213-9bf4-916d22cf8519",
   "metadata": {},
   "outputs": [
    {
     "data": {
      "text/plain": [
       "1"
      ]
     },
     "execution_count": 36,
     "metadata": {},
     "output_type": "execute_result"
    }
   ],
   "source": [
    "tuple_scoops[0]"
   ]
  },
  {
   "cell_type": "code",
   "execution_count": 1,
   "id": "3039b26c-1869-41c6-85d3-5f2dcf6b8c8d",
   "metadata": {},
   "outputs": [
    {
     "ename": "NameError",
     "evalue": "name 'tuple_scoops' is not defined",
     "output_type": "error",
     "traceback": [
      "\u001b[1;31m---------------------------------------------------------------------------\u001b[0m",
      "\u001b[1;31mNameError\u001b[0m                                 Traceback (most recent call last)",
      "Cell \u001b[1;32mIn[1], line 1\u001b[0m\n\u001b[1;32m----> 1\u001b[0m \u001b[43mtuple_scoops\u001b[49m\u001b[38;5;241m.\u001b[39mappend(\u001b[38;5;241m4\u001b[39m)\n",
      "\u001b[1;31mNameError\u001b[0m: name 'tuple_scoops' is not defined"
     ]
    }
   ],
   "source": [
    "tuple_scoops.append(4)"
   ]
  },
  {
   "cell_type": "markdown",
   "id": "18ac751d-b050-420f-a1cc-2ee13e6da691",
   "metadata": {},
   "source": [
    "## Sets"
   ]
  },
  {
   "cell_type": "code",
   "execution_count": 38,
   "id": "d058ad47-de2d-401b-ab30-808159220a57",
   "metadata": {},
   "outputs": [],
   "source": [
    "# sets\n",
    "\n",
    "daily_pints = {1,2,3}\n"
   ]
  },
  {
   "cell_type": "code",
   "execution_count": 39,
   "id": "db4105cd-1069-4700-a1f1-becadd1f13ee",
   "metadata": {},
   "outputs": [
    {
     "data": {
      "text/plain": [
       "set"
      ]
     },
     "execution_count": 39,
     "metadata": {},
     "output_type": "execute_result"
    }
   ],
   "source": [
    "type(daily_pints)"
   ]
  },
  {
   "cell_type": "code",
   "execution_count": 40,
   "id": "cf431f47-6077-4db6-be54-63e5e9bfe4dc",
   "metadata": {},
   "outputs": [
    {
     "name": "stdout",
     "output_type": "stream",
     "text": [
      "{1, 2, 3}\n"
     ]
    }
   ],
   "source": [
    "print(daily_pints)"
   ]
  },
  {
   "cell_type": "code",
   "execution_count": 42,
   "id": "e75495ef-945b-4e0b-bad1-58ac900e2c48",
   "metadata": {},
   "outputs": [
    {
     "name": "stdout",
     "output_type": "stream",
     "text": [
      "{1, 2, 3, 4, 5, 6, 31}\n"
     ]
    }
   ],
   "source": [
    "daily_pints_log = {1,2,31,2,3,4,1,2,5,6,3,2}\n",
    "print(daily_pints_log)"
   ]
  },
  {
   "cell_type": "code",
   "execution_count": 43,
   "id": "cf0bc4bc-c932-4631-a345-430fcff1057c",
   "metadata": {},
   "outputs": [],
   "source": [
    "wifes_daily_pints_log = {1,4,3,56,9,65,23,56,5,7,6}"
   ]
  },
  {
   "cell_type": "code",
   "execution_count": 44,
   "id": "c4c2b0ff-c69b-4eff-99af-d878b069c7f3",
   "metadata": {},
   "outputs": [
    {
     "name": "stdout",
     "output_type": "stream",
     "text": [
      "{1, 2, 3, 4, 5, 6, 65, 7, 9, 23, 31, 56}\n"
     ]
    }
   ],
   "source": [
    "print(daily_pints_log | wifes_daily_pints_log)"
   ]
  },
  {
   "cell_type": "code",
   "execution_count": 45,
   "id": "61729057-2dc9-4142-a7f9-b335a7c4864c",
   "metadata": {},
   "outputs": [
    {
     "name": "stdout",
     "output_type": "stream",
     "text": [
      "{1, 3, 4, 5, 6}\n"
     ]
    }
   ],
   "source": [
    "print(daily_pints_log & wifes_daily_pints_log)"
   ]
  },
  {
   "cell_type": "code",
   "execution_count": 46,
   "id": "463fb7c5-3e79-4c9d-9a03-a6f640387b93",
   "metadata": {},
   "outputs": [
    {
     "name": "stdout",
     "output_type": "stream",
     "text": [
      "{2, 31}\n"
     ]
    }
   ],
   "source": [
    "print(daily_pints_log - wifes_daily_pints_log)"
   ]
  },
  {
   "cell_type": "code",
   "execution_count": 47,
   "id": "3b0fc6ce-739c-4768-89a9-affa0349f4ac",
   "metadata": {},
   "outputs": [
    {
     "name": "stdout",
     "output_type": "stream",
     "text": [
      "{65, 2, 7, 9, 23, 56, 31}\n"
     ]
    }
   ],
   "source": [
    "print(daily_pints_log ^ wifes_daily_pints_log)"
   ]
  },
  {
   "cell_type": "markdown",
   "id": "9a042949-3234-4949-8f4f-4e522cb68b36",
   "metadata": {},
   "source": [
    "## Dictionaries"
   ]
  },
  {
   "cell_type": "code",
   "execution_count": 2,
   "id": "40cc6257-b4d3-4a25-8c04-0cd8e8279d99",
   "metadata": {},
   "outputs": [],
   "source": [
    "# dictionaries\n",
    "# Key/Value Pair\n",
    "\n",
    "# differenc ebetween dictionary and sets\n",
    "# sets = {1,2,3,4}\n",
    "dict_cream = {'name' : 'Sachin Tarchand','weekly intake': 5, 'favorite ice cream': ['MCC','Chocolate'], \"car details\": {\"type\": \"Toyota\"}}\n",
    "\n",
    "dictionary = [1,2,3,4,5]\n",
    "\n",
    "list_of_ice_creams = [\"chocolate\", \"vanilaa\"]\n"
   ]
  },
  {
   "cell_type": "code",
   "execution_count": 9,
   "id": "e4454e9c",
   "metadata": {},
   "outputs": [
    {
     "data": {
      "text/plain": [
       "{'name': 'Randy Tarchand',\n",
       " 'weekly intake': 6,\n",
       " 'favorite ice cream': ['MCC', 'Chocolate']}"
      ]
     },
     "execution_count": 9,
     "metadata": {},
     "output_type": "execute_result"
    }
   ],
   "source": [
    "dict_cream[\"name\"]\n",
    "dict_cream[\"weekly intake\"]\n",
    "dict_cream['name'] = 'Randy Tarchand' \n",
    "dict_cream"
   ]
  },
  {
   "cell_type": "code",
   "execution_count": 49,
   "id": "0f9d3958-931c-4dd2-bec2-19a37a4c7cd8",
   "metadata": {},
   "outputs": [
    {
     "data": {
      "text/plain": [
       "dict"
      ]
     },
     "execution_count": 49,
     "metadata": {},
     "output_type": "execute_result"
    }
   ],
   "source": [
    "type(dict_cream)"
   ]
  },
  {
   "cell_type": "code",
   "execution_count": 50,
   "id": "80ea012e-4736-4f55-a934-0606d5780b16",
   "metadata": {},
   "outputs": [
    {
     "name": "stdout",
     "output_type": "stream",
     "text": [
      "{'name': 'Sachin Tarchand', 'weekly intake': 5, 'favorite ice cream': ['MCC', 'Chocolate']}\n"
     ]
    }
   ],
   "source": [
    "print(dict_cream)"
   ]
  },
  {
   "cell_type": "code",
   "execution_count": 51,
   "id": "2daf3fd1-6b3b-4efd-9d9c-763e3ad67a02",
   "metadata": {},
   "outputs": [
    {
     "data": {
      "text/plain": [
       "dict_keys(['name', 'weekly intake', 'favorite ice cream'])"
      ]
     },
     "execution_count": 51,
     "metadata": {},
     "output_type": "execute_result"
    }
   ],
   "source": [
    "dict_cream.keys()"
   ]
  },
  {
   "cell_type": "code",
   "execution_count": 52,
   "id": "962157ff-ddfb-46d0-99be-eb0541df2fba",
   "metadata": {},
   "outputs": [
    {
     "data": {
      "text/plain": [
       "dict_values(['Sachin Tarchand', 5, ['MCC', 'Chocolate']])"
      ]
     },
     "execution_count": 52,
     "metadata": {},
     "output_type": "execute_result"
    }
   ],
   "source": [
    "dict_cream.values()"
   ]
  },
  {
   "cell_type": "code",
   "execution_count": 53,
   "id": "328d9a96-cc35-45fc-a035-712e87f49fd6",
   "metadata": {},
   "outputs": [
    {
     "data": {
      "text/plain": [
       "dict_items([('name', 'Sachin Tarchand'), ('weekly intake', 5), ('favorite ice cream', ['MCC', 'Chocolate'])])"
      ]
     },
     "execution_count": 53,
     "metadata": {},
     "output_type": "execute_result"
    }
   ],
   "source": [
    "dict_cream.items()"
   ]
  },
  {
   "cell_type": "code",
   "execution_count": 54,
   "id": "041f3996-071d-4f21-b12a-9fa54f82477c",
   "metadata": {},
   "outputs": [
    {
     "data": {
      "text/plain": [
       "'Sachin Tarchand'"
      ]
     },
     "execution_count": 54,
     "metadata": {},
     "output_type": "execute_result"
    }
   ],
   "source": [
    "dict_cream['name']"
   ]
  },
  {
   "cell_type": "code",
   "execution_count": 55,
   "id": "ec32ce72-fafd-4133-a729-f1bf3781cdf3",
   "metadata": {},
   "outputs": [
    {
     "name": "stdout",
     "output_type": "stream",
     "text": [
      "{'name': 'Randy Tarchand', 'weekly intake': 5, 'favorite ice cream': ['MCC', 'Chocolate']}\n"
     ]
    }
   ],
   "source": [
    "dict_cream['name'] = 'Randy Tarchand'\n",
    "print(dict_cream)"
   ]
  },
  {
   "cell_type": "code",
   "execution_count": 56,
   "id": "39a1ef81-1494-4e7f-80b2-ac7db4af3eee",
   "metadata": {},
   "outputs": [
    {
     "name": "stdout",
     "output_type": "stream",
     "text": [
      "{'name': 'Randy Tarchand', 'weekly intake': 5, 'favorite ice cream': ['MCC', 'Chocolate'], 'weight': 300}\n"
     ]
    }
   ],
   "source": [
    "dict_cream.update({'name': 'Randy Tarchand', 'weekly intake': 5, 'weight': 300})\n",
    "\n",
    "print(dict_cream)"
   ]
  },
  {
   "cell_type": "code",
   "execution_count": null,
   "id": "8df979a7-f4c8-4dbe-8804-e5debb73f286",
   "metadata": {},
   "outputs": [],
   "source": []
  },
  {
   "cell_type": "code",
   "execution_count": null,
   "id": "3f95ae8f-0a93-45b3-af66-85b9a45c27a6",
   "metadata": {},
   "outputs": [],
   "source": []
  },
  {
   "cell_type": "code",
   "execution_count": null,
   "id": "75317d48-0282-4e39-b1a4-a5d2a88f6c0a",
   "metadata": {},
   "outputs": [],
   "source": []
  },
  {
   "cell_type": "code",
   "execution_count": null,
   "id": "e6466e40-c1a0-4446-adde-ae2b52a2d78e",
   "metadata": {},
   "outputs": [],
   "source": []
  },
  {
   "cell_type": "code",
   "execution_count": null,
   "id": "aeb14059-7c25-4abc-83fb-7c19477cda35",
   "metadata": {},
   "outputs": [],
   "source": []
  }
 ],
 "metadata": {
  "kernelspec": {
   "display_name": "Python 3 (ipykernel)",
   "language": "python",
   "name": "python3"
  },
  "language_info": {
   "codemirror_mode": {
    "name": "ipython",
    "version": 3
   },
   "file_extension": ".py",
   "mimetype": "text/x-python",
   "name": "python",
   "nbconvert_exporter": "python",
   "pygments_lexer": "ipython3",
   "version": "3.11.6"
  }
 },
 "nbformat": 4,
 "nbformat_minor": 5
}
