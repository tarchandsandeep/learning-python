{
 "cells": [
  {
   "cell_type": "markdown",
   "metadata": {},
   "source": [
    "* git add .\n",
    "* git commit -m \"enter the commit message\"\n",
    "* git push "
   ]
  }
 ],
 "metadata": {
  "language_info": {
   "name": "python"
  }
 },
 "nbformat": 4,
 "nbformat_minor": 2
}
